{
 "cells": [
  {
   "cell_type": "code",
   "execution_count": null,
   "metadata": {},
   "outputs": [],
   "source": [
    " \"\"\"\n",
    "    @app.route('/evaluation')\n",
    "    def evaluation():\n",
    "        names = ['Alexander Payne', 'Brooke Johnson', 'Charlie Smith', 'Danielle Reyes', \n",
    "                'Ethan Hawke', 'Fiona Gallagher', 'Griffin Door', 'Harper Lee',\n",
    "                'Isaac Newton', 'Jasmine Rice', 'Kyle Lowry', 'Luna Lovegood', \n",
    "                'Megan Fox', 'Nathan Drake', 'Olivia Benson', 'Peter Parker', \n",
    "                'Quincy Adams', 'Rachel Green', 'Steve Jobs', 'Tina Turner']\n",
    "        selected_name = random.choice(names)\n",
    "        return render_template('evaluation.html', student_name=selected_name)\n",
    "    \"\"\""
   ]
  },
  {
   "cell_type": "code",
   "execution_count": 1,
   "metadata": {},
   "outputs": [
    {
     "name": "stdout",
     "output_type": "stream",
     "text": [
      "b'>\\xcd\\x19\\xb4\\x82\\xe6\\xf0J\\xd4\\xec&Y\\x93\\xb1u\\x06\\xd5\\xc9\\xab1L#\\xbcn'\n"
     ]
    }
   ],
   "source": [
    "import os\n",
    "print(os.urandom(24))"
   ]
  },
  {
   "cell_type": "code",
   "execution_count": 2,
   "metadata": {},
   "outputs": [
    {
     "name": "stdout",
     "output_type": "stream",
     "text": [
      "Requirement already satisfied: pandas in c:\\users\\marcb\\appdata\\local\\packages\\pythonsoftwarefoundation.python.3.10_qbz5n2kfra8p0\\localcache\\local-packages\\python310\\site-packages (1.4.1)\n",
      "Requirement already satisfied: python-dateutil>=2.8.1 in c:\\users\\marcb\\appdata\\local\\packages\\pythonsoftwarefoundation.python.3.10_qbz5n2kfra8p0\\localcache\\local-packages\\python310\\site-packages (from pandas) (2.8.2)\n",
      "Requirement already satisfied: pytz>=2020.1 in c:\\users\\marcb\\appdata\\local\\packages\\pythonsoftwarefoundation.python.3.10_qbz5n2kfra8p0\\localcache\\local-packages\\python310\\site-packages (from pandas) (2022.1)\n",
      "Requirement already satisfied: numpy>=1.21.0 in c:\\users\\marcb\\appdata\\local\\packages\\pythonsoftwarefoundation.python.3.10_qbz5n2kfra8p0\\localcache\\local-packages\\python310\\site-packages (from pandas) (1.22.3)\n",
      "Requirement already satisfied: six>=1.5 in c:\\users\\marcb\\appdata\\local\\packages\\pythonsoftwarefoundation.python.3.10_qbz5n2kfra8p0\\localcache\\local-packages\\python310\\site-packages (from python-dateutil>=2.8.1->pandas) (1.16.0)\n"
     ]
    }
   ],
   "source": [
    "!pip install pandas"
   ]
  },
  {
   "cell_type": "code",
   "execution_count": null,
   "metadata": {},
   "outputs": [],
   "source": [
    "<script>\n",
    "        document.getElementById('evaluationForm').onsubmit = function(event) {\n",
    "            event.preventDefault(); // Prevent form from submitting normally\n",
    "            // Here you can handle the form data, for example, logging it or sending it to a server\n",
    "            console.log(\"Form submitted\");\n",
    "            alert(\"Evaluation Submitted!\");\n",
    "        };\n",
    "    </script>"
   ]
  }
 ],
 "metadata": {
  "kernelspec": {
   "display_name": "Python 3",
   "language": "python",
   "name": "python3"
  },
  "language_info": {
   "codemirror_mode": {
    "name": "ipython",
    "version": 3
   },
   "file_extension": ".py",
   "mimetype": "text/x-python",
   "name": "python",
   "nbconvert_exporter": "python",
   "pygments_lexer": "ipython3",
   "version": "3.10.11"
  }
 },
 "nbformat": 4,
 "nbformat_minor": 2
}
